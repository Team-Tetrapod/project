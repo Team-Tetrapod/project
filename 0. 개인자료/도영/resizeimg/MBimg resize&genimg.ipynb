{
 "cells": [
  {
   "cell_type": "code",
   "execution_count": 21,
   "metadata": {},
   "outputs": [],
   "source": [
    "import pandas as pd\n",
    "import numpy as np\n",
    "import os\n",
    "import matplotlib.pyplot as plt\n",
    "from PIL import Image\n",
    "import cv2 as cv\n",
    "from keras.preprocessing.image  import ImageDataGenerator\n",
    "import tensorflow as tf"
   ]
  },
  {
   "cell_type": "code",
   "execution_count": 53,
   "metadata": {},
   "outputs": [],
   "source": [
    "# os.path.split(filename) --> 디렉토리와 파일을 분리한다.(리스트로 나타낸다)\n",
    "\n",
    "# os.path.splitext(filename) --> 확장자만 따로 분류한다.(리스트로 나타낸다)\n",
    "\n",
    "# os.path.dirname(filename) --> 디렉토리만 출력을 한다.\n",
    "\n",
    "# os.path.basename(filename) --> 파일이름만 출력을 한다.\n",
    "\n",
    "# os.path.isdir(파일이름)은 파일이 디렉토리인지에 대해서 검사를 하는 함수이다.\n",
    "\n",
    "# os.path.walk\n",
    "# os.path.walk(시작 상위 디렉토리, 각 디렉토리마다 실행할 함수, 함수에 대한 인수)\n",
    "\n",
    "# os.path.exists() – 파일의 존재 여부 검사\n",
    "\n",
    "\n",
    "# os.path.join\n",
    "\n",
    "# 디렉토리 경로명 연결입니다.\n",
    "# >>> os.path.join('a', 'b', 'c')\n",
    "#       'a\\\\b\\\\c'"
   ]
  },
  {
   "cell_type": "code",
   "execution_count": 64,
   "metadata": {},
   "outputs": [
    {
     "name": "stdout",
     "output_type": "stream",
     "text": [
      "['ASRock B360M PRO4', 'asrock b365m pro4', 'ASRock H310CM-HDV Plus', 'ASRock Z390 EXTREME4', 'ASUS PRIME B365M-A', 'ASUS TUF Z390-PLUS GAMING', 'GIGABYTE B365M DS3H', 'MSI B360M Mortar', 'MSI H310M PRO-VD PLUS', 'MSI MPG Z390 EDGE']\n",
      "['C:/pentacore/projectpractice/intel-MB/ASRock B360M PRO4', 'C:/pentacore/projectpractice/intel-MB/asrock b365m pro4', 'C:/pentacore/projectpractice/intel-MB/ASRock H310CM-HDV Plus', 'C:/pentacore/projectpractice/intel-MB/ASRock Z390 EXTREME4', 'C:/pentacore/projectpractice/intel-MB/ASUS PRIME B365M-A', 'C:/pentacore/projectpractice/intel-MB/ASUS TUF Z390-PLUS GAMING', 'C:/pentacore/projectpractice/intel-MB/GIGABYTE B365M DS3H', 'C:/pentacore/projectpractice/intel-MB/MSI B360M Mortar', 'C:/pentacore/projectpractice/intel-MB/MSI H310M PRO-VD PLUS', 'C:/pentacore/projectpractice/intel-MB/MSI MPG Z390 EDGE']\n"
     ]
    }
   ],
   "source": [
    "path_dir=\"C:/pentacore/projectpractice/intel-MB/\"\n",
    "list_MBfolder=os.listdir(path_dir)\n",
    "print(list_MBfolder)\n",
    "joinlist=[]\n",
    "for i in range(len(list_MBfolder)):\n",
    "    joinlist.append(os.path.join(path_dir,list_MBfolder[i]))\n",
    "print(joinlist)\n",
    "\n",
    "for l in joinlist:\n",
    "    MB_img_list=os.listdir(l)\n"
   ]
  },
  {
   "cell_type": "code",
   "execution_count": 65,
   "metadata": {},
   "outputs": [
    {
     "name": "stdout",
     "output_type": "stream",
     "text": [
      "['C:/pentacore/projectpractice/intel-MB/ASRock B360M PRO4\\\\ASRock B360M PRO4-1.jpg', 'C:/pentacore/projectpractice/intel-MB/ASRock B360M PRO4\\\\ASRock B360M PRO4-10.jpg', 'C:/pentacore/projectpractice/intel-MB/ASRock B360M PRO4\\\\ASRock B360M PRO4-11.png', 'C:/pentacore/projectpractice/intel-MB/ASRock B360M PRO4\\\\ASRock B360M PRO4-12.png', 'C:/pentacore/projectpractice/intel-MB/ASRock B360M PRO4\\\\ASRock B360M PRO4-13.png', 'C:/pentacore/projectpractice/intel-MB/ASRock B360M PRO4\\\\ASRock B360M PRO4-14.png', 'C:/pentacore/projectpractice/intel-MB/ASRock B360M PRO4\\\\ASRock B360M PRO4-15.png', 'C:/pentacore/projectpractice/intel-MB/ASRock B360M PRO4\\\\ASRock B360M PRO4-16.png', 'C:/pentacore/projectpractice/intel-MB/ASRock B360M PRO4\\\\ASRock B360M PRO4-17.png', 'C:/pentacore/projectpractice/intel-MB/ASRock B360M PRO4\\\\ASRock B360M PRO4-18.png', 'C:/pentacore/projectpractice/intel-MB/ASRock B360M PRO4\\\\ASRock B360M PRO4-19.png', 'C:/pentacore/projectpractice/intel-MB/ASRock B360M PRO4\\\\ASRock B360M PRO4-2.png', 'C:/pentacore/projectpractice/intel-MB/ASRock B360M PRO4\\\\ASRock B360M PRO4-20.png', 'C:/pentacore/projectpractice/intel-MB/ASRock B360M PRO4\\\\ASRock B360M PRO4-21.png', 'C:/pentacore/projectpractice/intel-MB/ASRock B360M PRO4\\\\ASRock B360M PRO4-22.png', 'C:/pentacore/projectpractice/intel-MB/ASRock B360M PRO4\\\\ASRock B360M PRO4-23.png', 'C:/pentacore/projectpractice/intel-MB/ASRock B360M PRO4\\\\ASRock B360M PRO4-24.png', 'C:/pentacore/projectpractice/intel-MB/ASRock B360M PRO4\\\\ASRock B360M PRO4-25.png', 'C:/pentacore/projectpractice/intel-MB/ASRock B360M PRO4\\\\ASRock B360M PRO4-26.png', 'C:/pentacore/projectpractice/intel-MB/ASRock B360M PRO4\\\\ASRock B360M PRO4-27.png', 'C:/pentacore/projectpractice/intel-MB/ASRock B360M PRO4\\\\ASRock B360M PRO4-28.png', 'C:/pentacore/projectpractice/intel-MB/ASRock B360M PRO4\\\\ASRock B360M PRO4-29.png', 'C:/pentacore/projectpractice/intel-MB/ASRock B360M PRO4\\\\ASRock B360M PRO4-3.jpg', 'C:/pentacore/projectpractice/intel-MB/ASRock B360M PRO4\\\\ASRock B360M PRO4-30.png', 'C:/pentacore/projectpractice/intel-MB/ASRock B360M PRO4\\\\ASRock B360M PRO4-31.png', 'C:/pentacore/projectpractice/intel-MB/ASRock B360M PRO4\\\\ASRock B360M PRO4-32.png', 'C:/pentacore/projectpractice/intel-MB/ASRock B360M PRO4\\\\ASRock B360M PRO4-33.png', 'C:/pentacore/projectpractice/intel-MB/ASRock B360M PRO4\\\\ASRock B360M PRO4-34.png', 'C:/pentacore/projectpractice/intel-MB/ASRock B360M PRO4\\\\ASRock B360M PRO4-35.png', 'C:/pentacore/projectpractice/intel-MB/ASRock B360M PRO4\\\\ASRock B360M PRO4-4.jpg', 'C:/pentacore/projectpractice/intel-MB/ASRock B360M PRO4\\\\ASRock B360M PRO4-5.jpg', 'C:/pentacore/projectpractice/intel-MB/ASRock B360M PRO4\\\\ASRock B360M PRO4-6.jpg', 'C:/pentacore/projectpractice/intel-MB/ASRock B360M PRO4\\\\ASRock B360M PRO4-7.jpg', 'C:/pentacore/projectpractice/intel-MB/ASRock B360M PRO4\\\\ASRock B360M PRO4-8.jpg', 'C:/pentacore/projectpractice/intel-MB/ASRock B360M PRO4\\\\ASRock B360M PRO4-9.jpg', 'C:/pentacore/projectpractice/intel-MB/asrock b365m pro4\\\\asrock b365m pro4-1.jpg', 'C:/pentacore/projectpractice/intel-MB/asrock b365m pro4\\\\asrock b365m pro4-10.jpg', 'C:/pentacore/projectpractice/intel-MB/asrock b365m pro4\\\\asrock b365m pro4-11.PNG', 'C:/pentacore/projectpractice/intel-MB/asrock b365m pro4\\\\asrock b365m pro4-12.png', 'C:/pentacore/projectpractice/intel-MB/asrock b365m pro4\\\\asrock b365m pro4-13.PNG', 'C:/pentacore/projectpractice/intel-MB/asrock b365m pro4\\\\asrock b365m pro4-14.PNG', 'C:/pentacore/projectpractice/intel-MB/asrock b365m pro4\\\\asrock b365m pro4-15.PNG', 'C:/pentacore/projectpractice/intel-MB/asrock b365m pro4\\\\asrock b365m pro4-16.png', 'C:/pentacore/projectpractice/intel-MB/asrock b365m pro4\\\\asrock b365m pro4-17.png', 'C:/pentacore/projectpractice/intel-MB/asrock b365m pro4\\\\asrock b365m pro4-18.png', 'C:/pentacore/projectpractice/intel-MB/asrock b365m pro4\\\\asrock b365m pro4-19.png', 'C:/pentacore/projectpractice/intel-MB/asrock b365m pro4\\\\asrock b365m pro4-2.jpg', 'C:/pentacore/projectpractice/intel-MB/asrock b365m pro4\\\\asrock b365m pro4-20.png', 'C:/pentacore/projectpractice/intel-MB/asrock b365m pro4\\\\asrock b365m pro4-21.png', 'C:/pentacore/projectpractice/intel-MB/asrock b365m pro4\\\\asrock b365m pro4-22.PNG', 'C:/pentacore/projectpractice/intel-MB/asrock b365m pro4\\\\asrock b365m pro4-23.PNG', 'C:/pentacore/projectpractice/intel-MB/asrock b365m pro4\\\\asrock b365m pro4-24.PNG', 'C:/pentacore/projectpractice/intel-MB/asrock b365m pro4\\\\asrock b365m pro4-25.PNG', 'C:/pentacore/projectpractice/intel-MB/asrock b365m pro4\\\\asrock b365m pro4-26.png', 'C:/pentacore/projectpractice/intel-MB/asrock b365m pro4\\\\asrock b365m pro4-27.png', 'C:/pentacore/projectpractice/intel-MB/asrock b365m pro4\\\\asrock b365m pro4-28.png', 'C:/pentacore/projectpractice/intel-MB/asrock b365m pro4\\\\asrock b365m pro4-29.png', 'C:/pentacore/projectpractice/intel-MB/asrock b365m pro4\\\\asrock b365m pro4-3.jpg', 'C:/pentacore/projectpractice/intel-MB/asrock b365m pro4\\\\asrock b365m pro4-30.png', 'C:/pentacore/projectpractice/intel-MB/asrock b365m pro4\\\\asrock b365m pro4-31.png', 'C:/pentacore/projectpractice/intel-MB/asrock b365m pro4\\\\asrock b365m pro4-32.png', 'C:/pentacore/projectpractice/intel-MB/asrock b365m pro4\\\\asrock b365m pro4-33.PNG', 'C:/pentacore/projectpractice/intel-MB/asrock b365m pro4\\\\asrock b365m pro4-34.png', 'C:/pentacore/projectpractice/intel-MB/asrock b365m pro4\\\\asrock b365m pro4-35.png', 'C:/pentacore/projectpractice/intel-MB/asrock b365m pro4\\\\asrock b365m pro4-4.jpg', 'C:/pentacore/projectpractice/intel-MB/asrock b365m pro4\\\\asrock b365m pro4-5.jpg', 'C:/pentacore/projectpractice/intel-MB/asrock b365m pro4\\\\asrock b365m pro4-6.jpg', 'C:/pentacore/projectpractice/intel-MB/asrock b365m pro4\\\\asrock b365m pro4-7.jpg', 'C:/pentacore/projectpractice/intel-MB/asrock b365m pro4\\\\asrock b365m pro4-8.jpeg', 'C:/pentacore/projectpractice/intel-MB/asrock b365m pro4\\\\asrock b365m pro4-9.jpg', 'C:/pentacore/projectpractice/intel-MB/ASRock H310CM-HDV Plus\\\\ASRock H310CM-HDV Plus-1.jpg', 'C:/pentacore/projectpractice/intel-MB/ASRock H310CM-HDV Plus\\\\ASRock H310CM-HDV Plus-10.png', 'C:/pentacore/projectpractice/intel-MB/ASRock H310CM-HDV Plus\\\\ASRock H310CM-HDV Plus-11.png', 'C:/pentacore/projectpractice/intel-MB/ASRock H310CM-HDV Plus\\\\ASRock H310CM-HDV Plus-12.png', 'C:/pentacore/projectpractice/intel-MB/ASRock H310CM-HDV Plus\\\\ASRock H310CM-HDV Plus-13.png', 'C:/pentacore/projectpractice/intel-MB/ASRock H310CM-HDV Plus\\\\ASRock H310CM-HDV Plus-14.png', 'C:/pentacore/projectpractice/intel-MB/ASRock H310CM-HDV Plus\\\\ASRock H310CM-HDV Plus-15.png', 'C:/pentacore/projectpractice/intel-MB/ASRock H310CM-HDV Plus\\\\ASRock H310CM-HDV Plus-16.png', 'C:/pentacore/projectpractice/intel-MB/ASRock H310CM-HDV Plus\\\\ASRock H310CM-HDV Plus-17.png', 'C:/pentacore/projectpractice/intel-MB/ASRock H310CM-HDV Plus\\\\ASRock H310CM-HDV Plus-18.png', 'C:/pentacore/projectpractice/intel-MB/ASRock H310CM-HDV Plus\\\\ASRock H310CM-HDV Plus-19.png', 'C:/pentacore/projectpractice/intel-MB/ASRock H310CM-HDV Plus\\\\ASRock H310CM-HDV Plus-2.jpg', 'C:/pentacore/projectpractice/intel-MB/ASRock H310CM-HDV Plus\\\\ASRock H310CM-HDV Plus-20.png', 'C:/pentacore/projectpractice/intel-MB/ASRock H310CM-HDV Plus\\\\ASRock H310CM-HDV Plus-21.png', 'C:/pentacore/projectpractice/intel-MB/ASRock H310CM-HDV Plus\\\\ASRock H310CM-HDV Plus-22.png', 'C:/pentacore/projectpractice/intel-MB/ASRock H310CM-HDV Plus\\\\ASRock H310CM-HDV Plus-23.png', 'C:/pentacore/projectpractice/intel-MB/ASRock H310CM-HDV Plus\\\\ASRock H310CM-HDV Plus-24.png', 'C:/pentacore/projectpractice/intel-MB/ASRock H310CM-HDV Plus\\\\ASRock H310CM-HDV Plus-25.png', 'C:/pentacore/projectpractice/intel-MB/ASRock H310CM-HDV Plus\\\\ASRock H310CM-HDV Plus-26.PNG', 'C:/pentacore/projectpractice/intel-MB/ASRock H310CM-HDV Plus\\\\ASRock H310CM-HDV Plus-27.PNG', 'C:/pentacore/projectpractice/intel-MB/ASRock H310CM-HDV Plus\\\\ASRock H310CM-HDV Plus-28.PNG', 'C:/pentacore/projectpractice/intel-MB/ASRock H310CM-HDV Plus\\\\ASRock H310CM-HDV Plus-29.PNG', 'C:/pentacore/projectpractice/intel-MB/ASRock H310CM-HDV Plus\\\\ASRock H310CM-HDV Plus-3.jpg', 'C:/pentacore/projectpractice/intel-MB/ASRock H310CM-HDV Plus\\\\ASRock H310CM-HDV Plus-30.PNG', 'C:/pentacore/projectpractice/intel-MB/ASRock H310CM-HDV Plus\\\\ASRock H310CM-HDV Plus-4.jpg', 'C:/pentacore/projectpractice/intel-MB/ASRock H310CM-HDV Plus\\\\ASRock H310CM-HDV Plus-5.png', 'C:/pentacore/projectpractice/intel-MB/ASRock H310CM-HDV Plus\\\\ASRock H310CM-HDV Plus-6.png', 'C:/pentacore/projectpractice/intel-MB/ASRock H310CM-HDV Plus\\\\ASRock H310CM-HDV Plus-7.png', 'C:/pentacore/projectpractice/intel-MB/ASRock H310CM-HDV Plus\\\\ASRock H310CM-HDV Plus-8.png', 'C:/pentacore/projectpractice/intel-MB/ASRock H310CM-HDV Plus\\\\ASRock H310CM-HDV Plus-9.png', 'C:/pentacore/projectpractice/intel-MB/ASRock Z390 EXTREME4\\\\ASRock Z390 EXTREME4-1.jpg', 'C:/pentacore/projectpractice/intel-MB/ASRock Z390 EXTREME4\\\\ASRock Z390 EXTREME4-10.jpg', 'C:/pentacore/projectpractice/intel-MB/ASRock Z390 EXTREME4\\\\ASRock Z390 EXTREME4-11.JPG', 'C:/pentacore/projectpractice/intel-MB/ASRock Z390 EXTREME4\\\\ASRock Z390 EXTREME4-12.JPG', 'C:/pentacore/projectpractice/intel-MB/ASRock Z390 EXTREME4\\\\ASRock Z390 EXTREME4-13.JPG', 'C:/pentacore/projectpractice/intel-MB/ASRock Z390 EXTREME4\\\\ASRock Z390 EXTREME4-14.JPG', 'C:/pentacore/projectpractice/intel-MB/ASRock Z390 EXTREME4\\\\ASRock Z390 EXTREME4-15.JPG', 'C:/pentacore/projectpractice/intel-MB/ASRock Z390 EXTREME4\\\\ASRock Z390 EXTREME4-16.JPG', 'C:/pentacore/projectpractice/intel-MB/ASRock Z390 EXTREME4\\\\ASRock Z390 EXTREME4-17.JPG', 'C:/pentacore/projectpractice/intel-MB/ASRock Z390 EXTREME4\\\\ASRock Z390 EXTREME4-18.JPG', 'C:/pentacore/projectpractice/intel-MB/ASRock Z390 EXTREME4\\\\ASRock Z390 EXTREME4-19.JPG', 'C:/pentacore/projectpractice/intel-MB/ASRock Z390 EXTREME4\\\\ASRock Z390 EXTREME4-2.jpg', 'C:/pentacore/projectpractice/intel-MB/ASRock Z390 EXTREME4\\\\ASRock Z390 EXTREME4-20.JPG', 'C:/pentacore/projectpractice/intel-MB/ASRock Z390 EXTREME4\\\\ASRock Z390 EXTREME4-21.JPG', 'C:/pentacore/projectpractice/intel-MB/ASRock Z390 EXTREME4\\\\ASRock Z390 EXTREME4-22.JPG', 'C:/pentacore/projectpractice/intel-MB/ASRock Z390 EXTREME4\\\\ASRock Z390 EXTREME4-23.JPG', 'C:/pentacore/projectpractice/intel-MB/ASRock Z390 EXTREME4\\\\ASRock Z390 EXTREME4-24.JPG', 'C:/pentacore/projectpractice/intel-MB/ASRock Z390 EXTREME4\\\\ASRock Z390 EXTREME4-25.JPG', 'C:/pentacore/projectpractice/intel-MB/ASRock Z390 EXTREME4\\\\ASRock Z390 EXTREME4-26.JPG', 'C:/pentacore/projectpractice/intel-MB/ASRock Z390 EXTREME4\\\\ASRock Z390 EXTREME4-27.JPG', 'C:/pentacore/projectpractice/intel-MB/ASRock Z390 EXTREME4\\\\ASRock Z390 EXTREME4-28.JPG', 'C:/pentacore/projectpractice/intel-MB/ASRock Z390 EXTREME4\\\\ASRock Z390 EXTREME4-29.JPG', 'C:/pentacore/projectpractice/intel-MB/ASRock Z390 EXTREME4\\\\ASRock Z390 EXTREME4-3.jpg', 'C:/pentacore/projectpractice/intel-MB/ASRock Z390 EXTREME4\\\\ASRock Z390 EXTREME4-30.JPG', 'C:/pentacore/projectpractice/intel-MB/ASRock Z390 EXTREME4\\\\ASRock Z390 EXTREME4-31.JPG', 'C:/pentacore/projectpractice/intel-MB/ASRock Z390 EXTREME4\\\\ASRock Z390 EXTREME4-32.JPG', 'C:/pentacore/projectpractice/intel-MB/ASRock Z390 EXTREME4\\\\ASRock Z390 EXTREME4-33.JPG', 'C:/pentacore/projectpractice/intel-MB/ASRock Z390 EXTREME4\\\\ASRock Z390 EXTREME4-34.JPG', 'C:/pentacore/projectpractice/intel-MB/ASRock Z390 EXTREME4\\\\ASRock Z390 EXTREME4-35.JPG', 'C:/pentacore/projectpractice/intel-MB/ASRock Z390 EXTREME4\\\\ASRock Z390 EXTREME4-36.JPG', 'C:/pentacore/projectpractice/intel-MB/ASRock Z390 EXTREME4\\\\ASRock Z390 EXTREME4-37.JPG', 'C:/pentacore/projectpractice/intel-MB/ASRock Z390 EXTREME4\\\\ASRock Z390 EXTREME4-38.JPG', 'C:/pentacore/projectpractice/intel-MB/ASRock Z390 EXTREME4\\\\ASRock Z390 EXTREME4-39.JPG', 'C:/pentacore/projectpractice/intel-MB/ASRock Z390 EXTREME4\\\\ASRock Z390 EXTREME4-4.jpg', 'C:/pentacore/projectpractice/intel-MB/ASRock Z390 EXTREME4\\\\ASRock Z390 EXTREME4-40.JPG', 'C:/pentacore/projectpractice/intel-MB/ASRock Z390 EXTREME4\\\\ASRock Z390 EXTREME4-41.JPG', 'C:/pentacore/projectpractice/intel-MB/ASRock Z390 EXTREME4\\\\ASRock Z390 EXTREME4-42.JPG', 'C:/pentacore/projectpractice/intel-MB/ASRock Z390 EXTREME4\\\\ASRock Z390 EXTREME4-43.JPG', 'C:/pentacore/projectpractice/intel-MB/ASRock Z390 EXTREME4\\\\ASRock Z390 EXTREME4-44.JPG', 'C:/pentacore/projectpractice/intel-MB/ASRock Z390 EXTREME4\\\\ASRock Z390 EXTREME4-45.JPG', 'C:/pentacore/projectpractice/intel-MB/ASRock Z390 EXTREME4\\\\ASRock Z390 EXTREME4-46.JPG', 'C:/pentacore/projectpractice/intel-MB/ASRock Z390 EXTREME4\\\\ASRock Z390 EXTREME4-5.jpg', 'C:/pentacore/projectpractice/intel-MB/ASRock Z390 EXTREME4\\\\ASRock Z390 EXTREME4-6.jpg', 'C:/pentacore/projectpractice/intel-MB/ASRock Z390 EXTREME4\\\\ASRock Z390 EXTREME4-8.jpg', 'C:/pentacore/projectpractice/intel-MB/ASRock Z390 EXTREME4\\\\ASRock Z390 EXTREME4-9.jpg', 'C:/pentacore/projectpractice/intel-MB/ASUS PRIME B365M-A\\\\ASUS PRIME B365M-A-1.jpg', 'C:/pentacore/projectpractice/intel-MB/ASUS PRIME B365M-A\\\\ASUS PRIME B365M-A-10.jpg', 'C:/pentacore/projectpractice/intel-MB/ASUS PRIME B365M-A\\\\ASUS PRIME B365M-A-11.jpg', 'C:/pentacore/projectpractice/intel-MB/ASUS PRIME B365M-A\\\\ASUS PRIME B365M-A-12.jpg', 'C:/pentacore/projectpractice/intel-MB/ASUS PRIME B365M-A\\\\ASUS PRIME B365M-A-13.jpg', 'C:/pentacore/projectpractice/intel-MB/ASUS PRIME B365M-A\\\\ASUS PRIME B365M-A-14.jpg', 'C:/pentacore/projectpractice/intel-MB/ASUS PRIME B365M-A\\\\ASUS PRIME B365M-A-15.jpg', 'C:/pentacore/projectpractice/intel-MB/ASUS PRIME B365M-A\\\\ASUS PRIME B365M-A-16.jpg', 'C:/pentacore/projectpractice/intel-MB/ASUS PRIME B365M-A\\\\ASUS PRIME B365M-A-17.jpg', 'C:/pentacore/projectpractice/intel-MB/ASUS PRIME B365M-A\\\\ASUS PRIME B365M-A-18.jpg', 'C:/pentacore/projectpractice/intel-MB/ASUS PRIME B365M-A\\\\ASUS PRIME B365M-A-19.jpg', 'C:/pentacore/projectpractice/intel-MB/ASUS PRIME B365M-A\\\\ASUS PRIME B365M-A-2.jpg', 'C:/pentacore/projectpractice/intel-MB/ASUS PRIME B365M-A\\\\ASUS PRIME B365M-A-20.jpg', 'C:/pentacore/projectpractice/intel-MB/ASUS PRIME B365M-A\\\\ASUS PRIME B365M-A-21.jpg', 'C:/pentacore/projectpractice/intel-MB/ASUS PRIME B365M-A\\\\ASUS PRIME B365M-A-22.jpg', 'C:/pentacore/projectpractice/intel-MB/ASUS PRIME B365M-A\\\\ASUS PRIME B365M-A-23.jpg', 'C:/pentacore/projectpractice/intel-MB/ASUS PRIME B365M-A\\\\ASUS PRIME B365M-A-24.jpg', 'C:/pentacore/projectpractice/intel-MB/ASUS PRIME B365M-A\\\\ASUS PRIME B365M-A-25.jpg', 'C:/pentacore/projectpractice/intel-MB/ASUS PRIME B365M-A\\\\ASUS PRIME B365M-A-26.jpg', 'C:/pentacore/projectpractice/intel-MB/ASUS PRIME B365M-A\\\\ASUS PRIME B365M-A-27.jpg', 'C:/pentacore/projectpractice/intel-MB/ASUS PRIME B365M-A\\\\ASUS PRIME B365M-A-28.jpg', 'C:/pentacore/projectpractice/intel-MB/ASUS PRIME B365M-A\\\\ASUS PRIME B365M-A-29.jpg', 'C:/pentacore/projectpractice/intel-MB/ASUS PRIME B365M-A\\\\ASUS PRIME B365M-A-3.jpg', 'C:/pentacore/projectpractice/intel-MB/ASUS PRIME B365M-A\\\\ASUS PRIME B365M-A-30.jpg', 'C:/pentacore/projectpractice/intel-MB/ASUS PRIME B365M-A\\\\ASUS PRIME B365M-A-31.jpg', 'C:/pentacore/projectpractice/intel-MB/ASUS PRIME B365M-A\\\\ASUS PRIME B365M-A-32.jpg', 'C:/pentacore/projectpractice/intel-MB/ASUS PRIME B365M-A\\\\ASUS PRIME B365M-A-33.jpg', 'C:/pentacore/projectpractice/intel-MB/ASUS PRIME B365M-A\\\\ASUS PRIME B365M-A-34.jpg', 'C:/pentacore/projectpractice/intel-MB/ASUS PRIME B365M-A\\\\ASUS PRIME B365M-A-35.jpg', 'C:/pentacore/projectpractice/intel-MB/ASUS PRIME B365M-A\\\\ASUS PRIME B365M-A-36.jpg', 'C:/pentacore/projectpractice/intel-MB/ASUS PRIME B365M-A\\\\ASUS PRIME B365M-A-37.jpg', 'C:/pentacore/projectpractice/intel-MB/ASUS PRIME B365M-A\\\\ASUS PRIME B365M-A-38.jpg', 'C:/pentacore/projectpractice/intel-MB/ASUS PRIME B365M-A\\\\ASUS PRIME B365M-A-39.jpg', 'C:/pentacore/projectpractice/intel-MB/ASUS PRIME B365M-A\\\\ASUS PRIME B365M-A-4.jpg', 'C:/pentacore/projectpractice/intel-MB/ASUS PRIME B365M-A\\\\ASUS PRIME B365M-A-40.jpg', 'C:/pentacore/projectpractice/intel-MB/ASUS PRIME B365M-A\\\\ASUS PRIME B365M-A-5.jpg', 'C:/pentacore/projectpractice/intel-MB/ASUS PRIME B365M-A\\\\ASUS PRIME B365M-A-6.jpg', 'C:/pentacore/projectpractice/intel-MB/ASUS PRIME B365M-A\\\\ASUS PRIME B365M-A-8.jpg', 'C:/pentacore/projectpractice/intel-MB/ASUS PRIME B365M-A\\\\ASUS PRIME B365M-A-9.jpg', 'C:/pentacore/projectpractice/intel-MB/ASUS TUF Z390-PLUS GAMING\\\\ASUS TUF Z390-PLUS GAMING-1.jpg', 'C:/pentacore/projectpractice/intel-MB/ASUS TUF Z390-PLUS GAMING\\\\ASUS TUF Z390-PLUS GAMING-10.jpg', 'C:/pentacore/projectpractice/intel-MB/ASUS TUF Z390-PLUS GAMING\\\\ASUS TUF Z390-PLUS GAMING-11.jpg', 'C:/pentacore/projectpractice/intel-MB/ASUS TUF Z390-PLUS GAMING\\\\ASUS TUF Z390-PLUS GAMING-12.jpg', 'C:/pentacore/projectpractice/intel-MB/ASUS TUF Z390-PLUS GAMING\\\\ASUS TUF Z390-PLUS GAMING-13.jpg', 'C:/pentacore/projectpractice/intel-MB/ASUS TUF Z390-PLUS GAMING\\\\ASUS TUF Z390-PLUS GAMING-14.jpg', 'C:/pentacore/projectpractice/intel-MB/ASUS TUF Z390-PLUS GAMING\\\\ASUS TUF Z390-PLUS GAMING-15.jpg', 'C:/pentacore/projectpractice/intel-MB/ASUS TUF Z390-PLUS GAMING\\\\ASUS TUF Z390-PLUS GAMING-16.jpg', 'C:/pentacore/projectpractice/intel-MB/ASUS TUF Z390-PLUS GAMING\\\\ASUS TUF Z390-PLUS GAMING-17.jpg', 'C:/pentacore/projectpractice/intel-MB/ASUS TUF Z390-PLUS GAMING\\\\ASUS TUF Z390-PLUS GAMING-18.jpg', 'C:/pentacore/projectpractice/intel-MB/ASUS TUF Z390-PLUS GAMING\\\\ASUS TUF Z390-PLUS GAMING-19.jpg', 'C:/pentacore/projectpractice/intel-MB/ASUS TUF Z390-PLUS GAMING\\\\ASUS TUF Z390-PLUS GAMING-2.jpg', 'C:/pentacore/projectpractice/intel-MB/ASUS TUF Z390-PLUS GAMING\\\\ASUS TUF Z390-PLUS GAMING-20.jpg', 'C:/pentacore/projectpractice/intel-MB/ASUS TUF Z390-PLUS GAMING\\\\ASUS TUF Z390-PLUS GAMING-21.jpg', 'C:/pentacore/projectpractice/intel-MB/ASUS TUF Z390-PLUS GAMING\\\\ASUS TUF Z390-PLUS GAMING-22.jpg', 'C:/pentacore/projectpractice/intel-MB/ASUS TUF Z390-PLUS GAMING\\\\ASUS TUF Z390-PLUS GAMING-23.jpg', 'C:/pentacore/projectpractice/intel-MB/ASUS TUF Z390-PLUS GAMING\\\\ASUS TUF Z390-PLUS GAMING-24.jpg', 'C:/pentacore/projectpractice/intel-MB/ASUS TUF Z390-PLUS GAMING\\\\ASUS TUF Z390-PLUS GAMING-25.jpg', 'C:/pentacore/projectpractice/intel-MB/ASUS TUF Z390-PLUS GAMING\\\\ASUS TUF Z390-PLUS GAMING-26.jpg', 'C:/pentacore/projectpractice/intel-MB/ASUS TUF Z390-PLUS GAMING\\\\ASUS TUF Z390-PLUS GAMING-27.jpg', 'C:/pentacore/projectpractice/intel-MB/ASUS TUF Z390-PLUS GAMING\\\\ASUS TUF Z390-PLUS GAMING-28.jpg', 'C:/pentacore/projectpractice/intel-MB/ASUS TUF Z390-PLUS GAMING\\\\ASUS TUF Z390-PLUS GAMING-29.jpg', 'C:/pentacore/projectpractice/intel-MB/ASUS TUF Z390-PLUS GAMING\\\\ASUS TUF Z390-PLUS GAMING-3.jpg', 'C:/pentacore/projectpractice/intel-MB/ASUS TUF Z390-PLUS GAMING\\\\ASUS TUF Z390-PLUS GAMING-30.jpg', 'C:/pentacore/projectpractice/intel-MB/ASUS TUF Z390-PLUS GAMING\\\\ASUS TUF Z390-PLUS GAMING-31.jpg', 'C:/pentacore/projectpractice/intel-MB/ASUS TUF Z390-PLUS GAMING\\\\ASUS TUF Z390-PLUS GAMING-32.jpg', 'C:/pentacore/projectpractice/intel-MB/ASUS TUF Z390-PLUS GAMING\\\\ASUS TUF Z390-PLUS GAMING-33.jpg', 'C:/pentacore/projectpractice/intel-MB/ASUS TUF Z390-PLUS GAMING\\\\ASUS TUF Z390-PLUS GAMING-34.jpg', 'C:/pentacore/projectpractice/intel-MB/ASUS TUF Z390-PLUS GAMING\\\\ASUS TUF Z390-PLUS GAMING-35.jpg', 'C:/pentacore/projectpractice/intel-MB/ASUS TUF Z390-PLUS GAMING\\\\ASUS TUF Z390-PLUS GAMING-36.jpg', 'C:/pentacore/projectpractice/intel-MB/ASUS TUF Z390-PLUS GAMING\\\\ASUS TUF Z390-PLUS GAMING-37.jpg', 'C:/pentacore/projectpractice/intel-MB/ASUS TUF Z390-PLUS GAMING\\\\ASUS TUF Z390-PLUS GAMING-38.jpg', 'C:/pentacore/projectpractice/intel-MB/ASUS TUF Z390-PLUS GAMING\\\\ASUS TUF Z390-PLUS GAMING-39.jpg', 'C:/pentacore/projectpractice/intel-MB/ASUS TUF Z390-PLUS GAMING\\\\ASUS TUF Z390-PLUS GAMING-4.jpg', 'C:/pentacore/projectpractice/intel-MB/ASUS TUF Z390-PLUS GAMING\\\\ASUS TUF Z390-PLUS GAMING-40.jpg', 'C:/pentacore/projectpractice/intel-MB/ASUS TUF Z390-PLUS GAMING\\\\ASUS TUF Z390-PLUS GAMING-41.jpg', 'C:/pentacore/projectpractice/intel-MB/ASUS TUF Z390-PLUS GAMING\\\\ASUS TUF Z390-PLUS GAMING-42.jpg', 'C:/pentacore/projectpractice/intel-MB/ASUS TUF Z390-PLUS GAMING\\\\ASUS TUF Z390-PLUS GAMING-5.jpg', 'C:/pentacore/projectpractice/intel-MB/ASUS TUF Z390-PLUS GAMING\\\\ASUS TUF Z390-PLUS GAMING-6.jpg', 'C:/pentacore/projectpractice/intel-MB/ASUS TUF Z390-PLUS GAMING\\\\ASUS TUF Z390-PLUS GAMING-7.jpg', 'C:/pentacore/projectpractice/intel-MB/ASUS TUF Z390-PLUS GAMING\\\\ASUS TUF Z390-PLUS GAMING-8.jpg', 'C:/pentacore/projectpractice/intel-MB/ASUS TUF Z390-PLUS GAMING\\\\ASUS TUF Z390-PLUS GAMING-9.jpg', 'C:/pentacore/projectpractice/intel-MB/GIGABYTE B365M DS3H\\\\GIGABYTE B365M DS3H-1.jpg', 'C:/pentacore/projectpractice/intel-MB/GIGABYTE B365M DS3H\\\\GIGABYTE B365M DS3H-10.jpg', 'C:/pentacore/projectpractice/intel-MB/GIGABYTE B365M DS3H\\\\GIGABYTE B365M DS3H-11.JPG', 'C:/pentacore/projectpractice/intel-MB/GIGABYTE B365M DS3H\\\\GIGABYTE B365M DS3H-12.JPG', 'C:/pentacore/projectpractice/intel-MB/GIGABYTE B365M DS3H\\\\GIGABYTE B365M DS3H-13.JPG', 'C:/pentacore/projectpractice/intel-MB/GIGABYTE B365M DS3H\\\\GIGABYTE B365M DS3H-14.JPG', 'C:/pentacore/projectpractice/intel-MB/GIGABYTE B365M DS3H\\\\GIGABYTE B365M DS3H-15.JPG', 'C:/pentacore/projectpractice/intel-MB/GIGABYTE B365M DS3H\\\\GIGABYTE B365M DS3H-16.JPG', 'C:/pentacore/projectpractice/intel-MB/GIGABYTE B365M DS3H\\\\GIGABYTE B365M DS3H-17.JPG', 'C:/pentacore/projectpractice/intel-MB/GIGABYTE B365M DS3H\\\\GIGABYTE B365M DS3H-18.JPG', 'C:/pentacore/projectpractice/intel-MB/GIGABYTE B365M DS3H\\\\GIGABYTE B365M DS3H-19.JPG', 'C:/pentacore/projectpractice/intel-MB/GIGABYTE B365M DS3H\\\\GIGABYTE B365M DS3H-2.jpg', 'C:/pentacore/projectpractice/intel-MB/GIGABYTE B365M DS3H\\\\GIGABYTE B365M DS3H-20.JPG', 'C:/pentacore/projectpractice/intel-MB/GIGABYTE B365M DS3H\\\\GIGABYTE B365M DS3H-21.JPG', 'C:/pentacore/projectpractice/intel-MB/GIGABYTE B365M DS3H\\\\GIGABYTE B365M DS3H-22.JPG', 'C:/pentacore/projectpractice/intel-MB/GIGABYTE B365M DS3H\\\\GIGABYTE B365M DS3H-23.JPG', 'C:/pentacore/projectpractice/intel-MB/GIGABYTE B365M DS3H\\\\GIGABYTE B365M DS3H-24.JPG', 'C:/pentacore/projectpractice/intel-MB/GIGABYTE B365M DS3H\\\\GIGABYTE B365M DS3H-25.JPG', 'C:/pentacore/projectpractice/intel-MB/GIGABYTE B365M DS3H\\\\GIGABYTE B365M DS3H-26.JPG', 'C:/pentacore/projectpractice/intel-MB/GIGABYTE B365M DS3H\\\\GIGABYTE B365M DS3H-27.JPG', 'C:/pentacore/projectpractice/intel-MB/GIGABYTE B365M DS3H\\\\GIGABYTE B365M DS3H-28.JPG', 'C:/pentacore/projectpractice/intel-MB/GIGABYTE B365M DS3H\\\\GIGABYTE B365M DS3H-29.JPG', 'C:/pentacore/projectpractice/intel-MB/GIGABYTE B365M DS3H\\\\GIGABYTE B365M DS3H-3.jpg', 'C:/pentacore/projectpractice/intel-MB/GIGABYTE B365M DS3H\\\\GIGABYTE B365M DS3H-30.JPG', 'C:/pentacore/projectpractice/intel-MB/GIGABYTE B365M DS3H\\\\GIGABYTE B365M DS3H-31.JPG', 'C:/pentacore/projectpractice/intel-MB/GIGABYTE B365M DS3H\\\\GIGABYTE B365M DS3H-32.JPG', 'C:/pentacore/projectpractice/intel-MB/GIGABYTE B365M DS3H\\\\GIGABYTE B365M DS3H-33.JPG', 'C:/pentacore/projectpractice/intel-MB/GIGABYTE B365M DS3H\\\\GIGABYTE B365M DS3H-34.JPG', 'C:/pentacore/projectpractice/intel-MB/GIGABYTE B365M DS3H\\\\GIGABYTE B365M DS3H-35.JPG', 'C:/pentacore/projectpractice/intel-MB/GIGABYTE B365M DS3H\\\\GIGABYTE B365M DS3H-36.JPG', 'C:/pentacore/projectpractice/intel-MB/GIGABYTE B365M DS3H\\\\GIGABYTE B365M DS3H-37.JPG', 'C:/pentacore/projectpractice/intel-MB/GIGABYTE B365M DS3H\\\\GIGABYTE B365M DS3H-38.JPG', 'C:/pentacore/projectpractice/intel-MB/GIGABYTE B365M DS3H\\\\GIGABYTE B365M DS3H-39.JPG', 'C:/pentacore/projectpractice/intel-MB/GIGABYTE B365M DS3H\\\\GIGABYTE B365M DS3H-4.jpg', 'C:/pentacore/projectpractice/intel-MB/GIGABYTE B365M DS3H\\\\GIGABYTE B365M DS3H-40.JPG', 'C:/pentacore/projectpractice/intel-MB/GIGABYTE B365M DS3H\\\\GIGABYTE B365M DS3H-41.JPG', 'C:/pentacore/projectpractice/intel-MB/GIGABYTE B365M DS3H\\\\GIGABYTE B365M DS3H-42.JPG', 'C:/pentacore/projectpractice/intel-MB/GIGABYTE B365M DS3H\\\\GIGABYTE B365M DS3H-43.JPG', 'C:/pentacore/projectpractice/intel-MB/GIGABYTE B365M DS3H\\\\GIGABYTE B365M DS3H-44.JPG', 'C:/pentacore/projectpractice/intel-MB/GIGABYTE B365M DS3H\\\\GIGABYTE B365M DS3H-45.JPG', 'C:/pentacore/projectpractice/intel-MB/GIGABYTE B365M DS3H\\\\GIGABYTE B365M DS3H-46.JPG', 'C:/pentacore/projectpractice/intel-MB/GIGABYTE B365M DS3H\\\\GIGABYTE B365M DS3H-5.jpg', 'C:/pentacore/projectpractice/intel-MB/GIGABYTE B365M DS3H\\\\GIGABYTE B365M DS3H-6.jpg', 'C:/pentacore/projectpractice/intel-MB/GIGABYTE B365M DS3H\\\\GIGABYTE B365M DS3H-7.jpg', 'C:/pentacore/projectpractice/intel-MB/GIGABYTE B365M DS3H\\\\GIGABYTE B365M DS3H-8.jpg', 'C:/pentacore/projectpractice/intel-MB/GIGABYTE B365M DS3H\\\\GIGABYTE B365M DS3H-9.jpg', 'C:/pentacore/projectpractice/intel-MB/MSI B360M Mortar\\\\MSI B360M Mortar-1.jpg', 'C:/pentacore/projectpractice/intel-MB/MSI B360M Mortar\\\\MSI B360M Mortar-10.JPG', 'C:/pentacore/projectpractice/intel-MB/MSI B360M Mortar\\\\MSI B360M Mortar-11.JPG', 'C:/pentacore/projectpractice/intel-MB/MSI B360M Mortar\\\\MSI B360M Mortar-12.JPG', 'C:/pentacore/projectpractice/intel-MB/MSI B360M Mortar\\\\MSI B360M Mortar-13.JPG', 'C:/pentacore/projectpractice/intel-MB/MSI B360M Mortar\\\\MSI B360M Mortar-14.JPG', 'C:/pentacore/projectpractice/intel-MB/MSI B360M Mortar\\\\MSI B360M Mortar-15.JPG', 'C:/pentacore/projectpractice/intel-MB/MSI B360M Mortar\\\\MSI B360M Mortar-16.JPG', 'C:/pentacore/projectpractice/intel-MB/MSI B360M Mortar\\\\MSI B360M Mortar-17.JPG', 'C:/pentacore/projectpractice/intel-MB/MSI B360M Mortar\\\\MSI B360M Mortar-18.JPG', 'C:/pentacore/projectpractice/intel-MB/MSI B360M Mortar\\\\MSI B360M Mortar-19.JPG', 'C:/pentacore/projectpractice/intel-MB/MSI B360M Mortar\\\\MSI B360M Mortar-2.jpg', 'C:/pentacore/projectpractice/intel-MB/MSI B360M Mortar\\\\MSI B360M Mortar-20.JPG', 'C:/pentacore/projectpractice/intel-MB/MSI B360M Mortar\\\\MSI B360M Mortar-21.JPG', 'C:/pentacore/projectpractice/intel-MB/MSI B360M Mortar\\\\MSI B360M Mortar-22.JPG', 'C:/pentacore/projectpractice/intel-MB/MSI B360M Mortar\\\\MSI B360M Mortar-23.JPG', 'C:/pentacore/projectpractice/intel-MB/MSI B360M Mortar\\\\MSI B360M Mortar-24.JPG', 'C:/pentacore/projectpractice/intel-MB/MSI B360M Mortar\\\\MSI B360M Mortar-25.JPG', 'C:/pentacore/projectpractice/intel-MB/MSI B360M Mortar\\\\MSI B360M Mortar-26.JPG', 'C:/pentacore/projectpractice/intel-MB/MSI B360M Mortar\\\\MSI B360M Mortar-27.JPG', 'C:/pentacore/projectpractice/intel-MB/MSI B360M Mortar\\\\MSI B360M Mortar-28.JPG', 'C:/pentacore/projectpractice/intel-MB/MSI B360M Mortar\\\\MSI B360M Mortar-29.JPG', 'C:/pentacore/projectpractice/intel-MB/MSI B360M Mortar\\\\MSI B360M Mortar-3.jpg', 'C:/pentacore/projectpractice/intel-MB/MSI B360M Mortar\\\\MSI B360M Mortar-30.JPG', 'C:/pentacore/projectpractice/intel-MB/MSI B360M Mortar\\\\MSI B360M Mortar-31.JPG', 'C:/pentacore/projectpractice/intel-MB/MSI B360M Mortar\\\\MSI B360M Mortar-32.JPG', 'C:/pentacore/projectpractice/intel-MB/MSI B360M Mortar\\\\MSI B360M Mortar-33.JPG', 'C:/pentacore/projectpractice/intel-MB/MSI B360M Mortar\\\\MSI B360M Mortar-34.JPG', 'C:/pentacore/projectpractice/intel-MB/MSI B360M Mortar\\\\MSI B360M Mortar-35.JPG', 'C:/pentacore/projectpractice/intel-MB/MSI B360M Mortar\\\\MSI B360M Mortar-36.JPG', 'C:/pentacore/projectpractice/intel-MB/MSI B360M Mortar\\\\MSI B360M Mortar-37.JPG', 'C:/pentacore/projectpractice/intel-MB/MSI B360M Mortar\\\\MSI B360M Mortar-38.JPG', 'C:/pentacore/projectpractice/intel-MB/MSI B360M Mortar\\\\MSI B360M Mortar-39.JPG', 'C:/pentacore/projectpractice/intel-MB/MSI B360M Mortar\\\\MSI B360M Mortar-4.jpg', 'C:/pentacore/projectpractice/intel-MB/MSI B360M Mortar\\\\MSI B360M Mortar-40.JPG', 'C:/pentacore/projectpractice/intel-MB/MSI B360M Mortar\\\\MSI B360M Mortar-41.JPG', 'C:/pentacore/projectpractice/intel-MB/MSI B360M Mortar\\\\MSI B360M Mortar-42.JPG', 'C:/pentacore/projectpractice/intel-MB/MSI B360M Mortar\\\\MSI B360M Mortar-43.JPG', 'C:/pentacore/projectpractice/intel-MB/MSI B360M Mortar\\\\MSI B360M Mortar-44.JPG', 'C:/pentacore/projectpractice/intel-MB/MSI B360M Mortar\\\\MSI B360M Mortar-45.JPG', 'C:/pentacore/projectpractice/intel-MB/MSI B360M Mortar\\\\MSI B360M Mortar-5.jpg', 'C:/pentacore/projectpractice/intel-MB/MSI B360M Mortar\\\\MSI B360M Mortar-6.jpg', 'C:/pentacore/projectpractice/intel-MB/MSI B360M Mortar\\\\MSI B360M Mortar-7.jpg', 'C:/pentacore/projectpractice/intel-MB/MSI B360M Mortar\\\\MSI B360M Mortar-8.jpg', 'C:/pentacore/projectpractice/intel-MB/MSI B360M Mortar\\\\MSI B360M Mortar-9.jpg', 'C:/pentacore/projectpractice/intel-MB/MSI H310M PRO-VD PLUS\\\\MSI H310M PRO-VD PLUS-1.jpg', 'C:/pentacore/projectpractice/intel-MB/MSI H310M PRO-VD PLUS\\\\MSI H310M PRO-VD PLUS-10.jpg', 'C:/pentacore/projectpractice/intel-MB/MSI H310M PRO-VD PLUS\\\\MSI H310M PRO-VD PLUS-11.JPG', 'C:/pentacore/projectpractice/intel-MB/MSI H310M PRO-VD PLUS\\\\MSI H310M PRO-VD PLUS-12.JPG', 'C:/pentacore/projectpractice/intel-MB/MSI H310M PRO-VD PLUS\\\\MSI H310M PRO-VD PLUS-13.JPG', 'C:/pentacore/projectpractice/intel-MB/MSI H310M PRO-VD PLUS\\\\MSI H310M PRO-VD PLUS-14.JPG', 'C:/pentacore/projectpractice/intel-MB/MSI H310M PRO-VD PLUS\\\\MSI H310M PRO-VD PLUS-15.JPG', 'C:/pentacore/projectpractice/intel-MB/MSI H310M PRO-VD PLUS\\\\MSI H310M PRO-VD PLUS-16.JPG', 'C:/pentacore/projectpractice/intel-MB/MSI H310M PRO-VD PLUS\\\\MSI H310M PRO-VD PLUS-17.JPG', 'C:/pentacore/projectpractice/intel-MB/MSI H310M PRO-VD PLUS\\\\MSI H310M PRO-VD PLUS-18.JPG', 'C:/pentacore/projectpractice/intel-MB/MSI H310M PRO-VD PLUS\\\\MSI H310M PRO-VD PLUS-19.JPG', 'C:/pentacore/projectpractice/intel-MB/MSI H310M PRO-VD PLUS\\\\MSI H310M PRO-VD PLUS-2.jpg', 'C:/pentacore/projectpractice/intel-MB/MSI H310M PRO-VD PLUS\\\\MSI H310M PRO-VD PLUS-20.JPG', 'C:/pentacore/projectpractice/intel-MB/MSI H310M PRO-VD PLUS\\\\MSI H310M PRO-VD PLUS-21.JPG', 'C:/pentacore/projectpractice/intel-MB/MSI H310M PRO-VD PLUS\\\\MSI H310M PRO-VD PLUS-22.JPG', 'C:/pentacore/projectpractice/intel-MB/MSI H310M PRO-VD PLUS\\\\MSI H310M PRO-VD PLUS-23.JPG', 'C:/pentacore/projectpractice/intel-MB/MSI H310M PRO-VD PLUS\\\\MSI H310M PRO-VD PLUS-24.JPG', 'C:/pentacore/projectpractice/intel-MB/MSI H310M PRO-VD PLUS\\\\MSI H310M PRO-VD PLUS-25.JPG', 'C:/pentacore/projectpractice/intel-MB/MSI H310M PRO-VD PLUS\\\\MSI H310M PRO-VD PLUS-26.JPG', 'C:/pentacore/projectpractice/intel-MB/MSI H310M PRO-VD PLUS\\\\MSI H310M PRO-VD PLUS-27.JPG', 'C:/pentacore/projectpractice/intel-MB/MSI H310M PRO-VD PLUS\\\\MSI H310M PRO-VD PLUS-28.JPG', 'C:/pentacore/projectpractice/intel-MB/MSI H310M PRO-VD PLUS\\\\MSI H310M PRO-VD PLUS-29.JPG', 'C:/pentacore/projectpractice/intel-MB/MSI H310M PRO-VD PLUS\\\\MSI H310M PRO-VD PLUS-3.jpg', 'C:/pentacore/projectpractice/intel-MB/MSI H310M PRO-VD PLUS\\\\MSI H310M PRO-VD PLUS-30.JPG', 'C:/pentacore/projectpractice/intel-MB/MSI H310M PRO-VD PLUS\\\\MSI H310M PRO-VD PLUS-31.JPG', 'C:/pentacore/projectpractice/intel-MB/MSI H310M PRO-VD PLUS\\\\MSI H310M PRO-VD PLUS-32.JPG', 'C:/pentacore/projectpractice/intel-MB/MSI H310M PRO-VD PLUS\\\\MSI H310M PRO-VD PLUS-33.JPG', 'C:/pentacore/projectpractice/intel-MB/MSI H310M PRO-VD PLUS\\\\MSI H310M PRO-VD PLUS-34.JPG', 'C:/pentacore/projectpractice/intel-MB/MSI H310M PRO-VD PLUS\\\\MSI H310M PRO-VD PLUS-35.JPG', 'C:/pentacore/projectpractice/intel-MB/MSI H310M PRO-VD PLUS\\\\MSI H310M PRO-VD PLUS-36.JPG', 'C:/pentacore/projectpractice/intel-MB/MSI H310M PRO-VD PLUS\\\\MSI H310M PRO-VD PLUS-37.JPG', 'C:/pentacore/projectpractice/intel-MB/MSI H310M PRO-VD PLUS\\\\MSI H310M PRO-VD PLUS-4.jpg', 'C:/pentacore/projectpractice/intel-MB/MSI H310M PRO-VD PLUS\\\\MSI H310M PRO-VD PLUS-5.jpg', 'C:/pentacore/projectpractice/intel-MB/MSI H310M PRO-VD PLUS\\\\MSI H310M PRO-VD PLUS-6.jpg', 'C:/pentacore/projectpractice/intel-MB/MSI H310M PRO-VD PLUS\\\\MSI H310M PRO-VD PLUS-7.jpg', 'C:/pentacore/projectpractice/intel-MB/MSI H310M PRO-VD PLUS\\\\MSI H310M PRO-VD PLUS-8.jpg', 'C:/pentacore/projectpractice/intel-MB/MSI H310M PRO-VD PLUS\\\\MSI H310M PRO-VD PLUS-9.jpg', 'C:/pentacore/projectpractice/intel-MB/MSI MPG Z390 EDGE\\\\MSI MPG Z390 EDGE-1.jpg', 'C:/pentacore/projectpractice/intel-MB/MSI MPG Z390 EDGE\\\\MSI MPG Z390 EDGE-10.jpg', 'C:/pentacore/projectpractice/intel-MB/MSI MPG Z390 EDGE\\\\MSI MPG Z390 EDGE-11.JPG', 'C:/pentacore/projectpractice/intel-MB/MSI MPG Z390 EDGE\\\\MSI MPG Z390 EDGE-12.JPG', 'C:/pentacore/projectpractice/intel-MB/MSI MPG Z390 EDGE\\\\MSI MPG Z390 EDGE-13.JPG', 'C:/pentacore/projectpractice/intel-MB/MSI MPG Z390 EDGE\\\\MSI MPG Z390 EDGE-14.JPG', 'C:/pentacore/projectpractice/intel-MB/MSI MPG Z390 EDGE\\\\MSI MPG Z390 EDGE-15.JPG', 'C:/pentacore/projectpractice/intel-MB/MSI MPG Z390 EDGE\\\\MSI MPG Z390 EDGE-16.JPG', 'C:/pentacore/projectpractice/intel-MB/MSI MPG Z390 EDGE\\\\MSI MPG Z390 EDGE-17.JPG', 'C:/pentacore/projectpractice/intel-MB/MSI MPG Z390 EDGE\\\\MSI MPG Z390 EDGE-18.JPG', 'C:/pentacore/projectpractice/intel-MB/MSI MPG Z390 EDGE\\\\MSI MPG Z390 EDGE-19.JPG', 'C:/pentacore/projectpractice/intel-MB/MSI MPG Z390 EDGE\\\\MSI MPG Z390 EDGE-2.jpg', 'C:/pentacore/projectpractice/intel-MB/MSI MPG Z390 EDGE\\\\MSI MPG Z390 EDGE-20.JPG', 'C:/pentacore/projectpractice/intel-MB/MSI MPG Z390 EDGE\\\\MSI MPG Z390 EDGE-21.JPG', 'C:/pentacore/projectpractice/intel-MB/MSI MPG Z390 EDGE\\\\MSI MPG Z390 EDGE-22.JPG', 'C:/pentacore/projectpractice/intel-MB/MSI MPG Z390 EDGE\\\\MSI MPG Z390 EDGE-23.JPG', 'C:/pentacore/projectpractice/intel-MB/MSI MPG Z390 EDGE\\\\MSI MPG Z390 EDGE-24.JPG', 'C:/pentacore/projectpractice/intel-MB/MSI MPG Z390 EDGE\\\\MSI MPG Z390 EDGE-25.JPG', 'C:/pentacore/projectpractice/intel-MB/MSI MPG Z390 EDGE\\\\MSI MPG Z390 EDGE-26.JPG', 'C:/pentacore/projectpractice/intel-MB/MSI MPG Z390 EDGE\\\\MSI MPG Z390 EDGE-27.JPG', 'C:/pentacore/projectpractice/intel-MB/MSI MPG Z390 EDGE\\\\MSI MPG Z390 EDGE-3.jpg', 'C:/pentacore/projectpractice/intel-MB/MSI MPG Z390 EDGE\\\\MSI MPG Z390 EDGE-4.jpg', 'C:/pentacore/projectpractice/intel-MB/MSI MPG Z390 EDGE\\\\MSI MPG Z390 EDGE-5.jpg', 'C:/pentacore/projectpractice/intel-MB/MSI MPG Z390 EDGE\\\\MSI MPG Z390 EDGE-6.jpg', 'C:/pentacore/projectpractice/intel-MB/MSI MPG Z390 EDGE\\\\MSI MPG Z390 EDGE-8.jpg', 'C:/pentacore/projectpractice/intel-MB/MSI MPG Z390 EDGE\\\\MSI MPG Z390 EDGE-9.jpg']\n"
     ]
    }
   ],
   "source": [
    "img_name=[]\n",
    "img_dir=[]\n",
    "for l in joinlist:\n",
    "    MB_img_list=os.listdir(l)\n",
    "    for k in MB_img_list:\n",
    "        img_dir.append(os.path.join(l,k))\n",
    "print(img_dir)\n",
    "        \n"
   ]
  },
  {
   "cell_type": "markdown",
   "metadata": {},
   "source": [
    "##데이터 증식부분"
   ]
  },
  {
   "cell_type": "code",
   "execution_count": 61,
   "metadata": {},
   "outputs": [],
   "source": [
    "np.random.seed(7)\n",
    "img_gen=ImageDataGenerator(rescale=1/255, rotation_range=10,\n",
    "                            width_shift_range=0.05, height_shift_range=0.05,\n",
    "                            fill_mode='nearest', horizontal_flip=True, vertical_flip=True)"
   ]
  },
  {
   "cell_type": "code",
   "execution_count": null,
   "metadata": {},
   "outputs": [],
   "source": []
  },
  {
   "cell_type": "code",
   "execution_count": 67,
   "metadata": {},
   "outputs": [
    {
     "name": "stdout",
     "output_type": "stream",
     "text": [
      "Found 380 images belonging to 10 classes.\n"
     ]
    }
   ],
   "source": [
    "# for direc in list_MBfolder:\n",
    "#     print(direc)\n",
    "imgenerate=img_gen.flow_from_directory('C:/pentacore/projectpractice/intel-MB/', color_mode='rgb',\n",
    "                                       target_size=(512,512),batch_size=50, save_to_dir='C:/pentacore/projectpractice/newgenimg/',\n",
    "                                       save_format='png')\n",
    "for batch in imgenerate:\n",
    "    i+=1\n",
    "    if i >50:\n",
    "        break"
   ]
  },
  {
   "cell_type": "code",
   "execution_count": null,
   "metadata": {},
   "outputs": [],
   "source": []
  },
  {
   "cell_type": "code",
   "execution_count": null,
   "metadata": {},
   "outputs": [],
   "source": []
  },
  {
   "cell_type": "code",
   "execution_count": 66,
   "metadata": {},
   "outputs": [],
   "source": [
    "num=0\n",
    "for img in img_dir:\n",
    "    num += 1\n",
    "    resize_img=Image.open(img).resize((512,512), Image.NEAREST)\n",
    "    resize_img.save(\"C:/pentacore/projectpractice/resizeIMG/%d.png\" % num)\n",
    "#     plt.title(img)\n",
    "#     plt.savefig(\"%d.jpg\" % num)"
   ]
  },
  {
   "cell_type": "code",
   "execution_count": 55,
   "metadata": {
    "scrolled": false
   },
   "outputs": [
    {
     "ename": "AttributeError",
     "evalue": "'numpy.ndarray' object has no attribute 'Image'",
     "output_type": "error",
     "traceback": [
      "\u001b[1;31m---------------------------------------------------------------------------\u001b[0m",
      "\u001b[1;31mAttributeError\u001b[0m                            Traceback (most recent call last)",
      "\u001b[1;32m<ipython-input-55-8ef852630134>\u001b[0m in \u001b[0;36m<module>\u001b[1;34m\u001b[0m\n\u001b[0;32m      5\u001b[0m     \u001b[0mresize_img\u001b[0m\u001b[1;33m=\u001b[0m\u001b[0mnp\u001b[0m\u001b[1;33m.\u001b[0m\u001b[0marray\u001b[0m\u001b[1;33m(\u001b[0m\u001b[0mImage\u001b[0m\u001b[1;33m.\u001b[0m\u001b[0mopen\u001b[0m\u001b[1;33m(\u001b[0m\u001b[0mimg\u001b[0m\u001b[1;33m)\u001b[0m\u001b[1;33m)\u001b[0m\u001b[1;33m.\u001b[0m\u001b[0mastype\u001b[0m\u001b[1;33m(\u001b[0m\u001b[0mnp\u001b[0m\u001b[1;33m.\u001b[0m\u001b[0mfloat32\u001b[0m\u001b[1;33m)\u001b[0m\u001b[1;33m/\u001b[0m\u001b[1;36m255.\u001b[0m\u001b[1;33m\u001b[0m\u001b[1;33m\u001b[0m\u001b[0m\n\u001b[0;32m      6\u001b[0m     \u001b[0mresize_img\u001b[0m\u001b[1;33m=\u001b[0m\u001b[0mcv\u001b[0m\u001b[1;33m.\u001b[0m\u001b[0mfilter2D\u001b[0m\u001b[1;33m(\u001b[0m\u001b[0mresize_img\u001b[0m\u001b[1;33m,\u001b[0m\u001b[1;33m-\u001b[0m\u001b[1;36m1\u001b[0m\u001b[1;33m,\u001b[0m\u001b[0mkernel\u001b[0m\u001b[1;33m)\u001b[0m\u001b[1;33m\u001b[0m\u001b[1;33m\u001b[0m\u001b[0m\n\u001b[1;32m----> 7\u001b[1;33m     \u001b[0mresize_img\u001b[0m\u001b[1;33m.\u001b[0m\u001b[0mImage\u001b[0m\u001b[1;33m.\u001b[0m\u001b[0mresize\u001b[0m\u001b[1;33m(\u001b[0m\u001b[1;33m(\u001b[0m\u001b[1;36m512\u001b[0m\u001b[1;33m,\u001b[0m\u001b[1;36m512\u001b[0m\u001b[1;33m)\u001b[0m\u001b[1;33m,\u001b[0m \u001b[0mImage\u001b[0m\u001b[1;33m.\u001b[0m\u001b[0mNEAREST\u001b[0m\u001b[1;33m)\u001b[0m\u001b[1;33m\u001b[0m\u001b[1;33m\u001b[0m\u001b[0m\n\u001b[0m\u001b[0;32m      8\u001b[0m \u001b[1;33m\u001b[0m\u001b[0m\n\u001b[0;32m      9\u001b[0m     \u001b[0mplt\u001b[0m\u001b[1;33m.\u001b[0m\u001b[0mfigure\u001b[0m\u001b[1;33m(\u001b[0m\u001b[0mfigsize\u001b[0m\u001b[1;33m=\u001b[0m\u001b[1;33m(\u001b[0m\u001b[1;36m20\u001b[0m\u001b[1;33m,\u001b[0m\u001b[1;36m10\u001b[0m\u001b[1;33m)\u001b[0m\u001b[1;33m)\u001b[0m\u001b[1;33m\u001b[0m\u001b[1;33m\u001b[0m\u001b[0m\n",
      "\u001b[1;31mAttributeError\u001b[0m: 'numpy.ndarray' object has no attribute 'Image'"
     ]
    }
   ],
   "source": [
    "num=0\n",
    "kernel=np.array([[-1,-1,-1],[-1,9,-1],[-1,-1,-1]])\n",
    "for img in img_dir:\n",
    "    num += 1\n",
    "    resize_img=np.array(Image.open(img)).astype(np.float32)/255.\n",
    "    resize_img=cv.filter2D(resize_img,-1,kernel)\n",
    "    resize_img.Image.resize((512,512), Image.NEAREST)\n",
    "    \n",
    "    plt.figure(figsize=(20,10))\n",
    "    plt.imshow(resize_img)\n",
    "#     resize_img.save(\"%d.jpg \" % num)\n",
    "    #plt.title(img)\n",
    "    #plt.savefig(\"%d.jpg\" % num)"
   ]
  },
  {
   "cell_type": "code",
   "execution_count": null,
   "metadata": {},
   "outputs": [],
   "source": [
    "num=0\n",
    "for i in range(10):\n",
    "    num += 1\n",
    "    print(num,\".jpg\")"
   ]
  },
  {
   "cell_type": "code",
   "execution_count": null,
   "metadata": {},
   "outputs": [],
   "source": []
  },
  {
   "cell_type": "code",
   "execution_count": null,
   "metadata": {},
   "outputs": [],
   "source": []
  }
 ],
 "metadata": {
  "kernelspec": {
   "display_name": "Python 3",
   "language": "python",
   "name": "python3"
  },
  "language_info": {
   "codemirror_mode": {
    "name": "ipython",
    "version": 3
   },
   "file_extension": ".py",
   "mimetype": "text/x-python",
   "name": "python",
   "nbconvert_exporter": "python",
   "pygments_lexer": "ipython3",
   "version": "3.7.3"
  }
 },
 "nbformat": 4,
 "nbformat_minor": 2
}
