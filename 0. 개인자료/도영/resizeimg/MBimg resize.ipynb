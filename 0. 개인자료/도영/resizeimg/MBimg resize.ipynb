{
 "cells": [
  {
   "cell_type": "code",
   "execution_count": 52,
   "metadata": {},
   "outputs": [],
   "source": [
    "import pandas as pd\n",
    "import numpy as np\n",
    "import os\n",
    "import matplotlib.pyplot as plt\n",
    "from PIL import Image\n",
    "import cv2 as cv"
   ]
  },
  {
   "cell_type": "code",
   "execution_count": 53,
   "metadata": {},
   "outputs": [],
   "source": [
    "# os.path.split(filename) --> 디렉토리와 파일을 분리한다.(리스트로 나타낸다)\n",
    "\n",
    "# os.path.splitext(filename) --> 확장자만 따로 분류한다.(리스트로 나타낸다)\n",
    "\n",
    "# os.path.dirname(filename) --> 디렉토리만 출력을 한다.\n",
    "\n",
    "# os.path.basename(filename) --> 파일이름만 출력을 한다.\n",
    "\n",
    "# os.path.isdir(파일이름)은 파일이 디렉토리인지에 대해서 검사를 하는 함수이다.\n",
    "\n",
    "# os.path.walk\n",
    "# os.path.walk(시작 상위 디렉토리, 각 디렉토리마다 실행할 함수, 함수에 대한 인수)\n",
    "\n",
    "# os.path.exists() – 파일의 존재 여부 검사\n",
    "\n",
    "\n",
    "# os.path.join\n",
    "\n",
    "# 디렉토리 경로명 연결입니다.\n",
    "# >>> os.path.join('a', 'b', 'c')\n",
    "#       'a\\\\b\\\\c'"
   ]
  },
  {
   "cell_type": "code",
   "execution_count": 54,
   "metadata": {},
   "outputs": [],
   "source": [
    "path_dir=\"C:/Users/user/Desktop/project/PixelAnnotationTool_x64_v1.3.2/PixelAnnotationTool_x64_v1.3.2/intel-MB\"\n",
    "list_MBfolder=os.listdir(path_dir)\n",
    "joinlist=[]\n",
    "for i in range(len(list_MBfolder)):\n",
    "    joinlist.append(os.path.join(path_dir,list_MBfolder[i]))\n",
    "# print(joinlist)\n",
    "\n",
    "for l in joinlist:\n",
    "    MB_img_list=os.listdir(l)\n"
   ]
  },
  {
   "cell_type": "code",
   "execution_count": 55,
   "metadata": {},
   "outputs": [
    {
     "data": {
      "text/plain": [
       "95"
      ]
     },
     "execution_count": 55,
     "metadata": {},
     "output_type": "execute_result"
    }
   ],
   "source": [
    "img_name=[]\n",
    "img_dir=[]\n",
    "for l in joinlist:\n",
    "    MB_img_list=os.listdir(l)\n",
    "    for k in MB_img_list:\n",
    "        img_dir.append(os.path.join(l,k))\n",
    "len(img_dir)\n",
    "        \n",
    "        \n"
   ]
  },
  {
   "cell_type": "code",
   "execution_count": 68,
   "metadata": {},
   "outputs": [],
   "source": [
    "num=0\n",
    "for img in img_dir:\n",
    "    num += 1\n",
    "    resize_img=Image.open(img).resize((512,512), Image.NEAREST)\n",
    "    resize_img.save(\"C:/Users/user/Desktop/resizeimg/%d.png\" % num)\n",
    "    #plt.title(img)\n",
    "    #plt.savefig(\"%d.jpg\" % num)"
   ]
  },
  {
   "cell_type": "code",
   "execution_count": 41,
   "metadata": {
    "scrolled": false
   },
   "outputs": [
    {
     "ename": "AttributeError",
     "evalue": "'numpy.ndarray' object has no attribute 'Image'",
     "output_type": "error",
     "traceback": [
      "\u001b[1;31m---------------------------------------------------------------------------\u001b[0m",
      "\u001b[1;31mAttributeError\u001b[0m                            Traceback (most recent call last)",
      "\u001b[1;32m<ipython-input-41-8ef852630134>\u001b[0m in \u001b[0;36m<module>\u001b[1;34m\u001b[0m\n\u001b[0;32m      5\u001b[0m     \u001b[0mresize_img\u001b[0m\u001b[1;33m=\u001b[0m\u001b[0mnp\u001b[0m\u001b[1;33m.\u001b[0m\u001b[0marray\u001b[0m\u001b[1;33m(\u001b[0m\u001b[0mImage\u001b[0m\u001b[1;33m.\u001b[0m\u001b[0mopen\u001b[0m\u001b[1;33m(\u001b[0m\u001b[0mimg\u001b[0m\u001b[1;33m)\u001b[0m\u001b[1;33m)\u001b[0m\u001b[1;33m.\u001b[0m\u001b[0mastype\u001b[0m\u001b[1;33m(\u001b[0m\u001b[0mnp\u001b[0m\u001b[1;33m.\u001b[0m\u001b[0mfloat32\u001b[0m\u001b[1;33m)\u001b[0m\u001b[1;33m/\u001b[0m\u001b[1;36m255.\u001b[0m\u001b[1;33m\u001b[0m\u001b[1;33m\u001b[0m\u001b[0m\n\u001b[0;32m      6\u001b[0m     \u001b[0mresize_img\u001b[0m\u001b[1;33m=\u001b[0m\u001b[0mcv\u001b[0m\u001b[1;33m.\u001b[0m\u001b[0mfilter2D\u001b[0m\u001b[1;33m(\u001b[0m\u001b[0mresize_img\u001b[0m\u001b[1;33m,\u001b[0m\u001b[1;33m-\u001b[0m\u001b[1;36m1\u001b[0m\u001b[1;33m,\u001b[0m\u001b[0mkernel\u001b[0m\u001b[1;33m)\u001b[0m\u001b[1;33m\u001b[0m\u001b[1;33m\u001b[0m\u001b[0m\n\u001b[1;32m----> 7\u001b[1;33m     \u001b[0mresize_img\u001b[0m\u001b[1;33m.\u001b[0m\u001b[0mImage\u001b[0m\u001b[1;33m.\u001b[0m\u001b[0mresize\u001b[0m\u001b[1;33m(\u001b[0m\u001b[1;33m(\u001b[0m\u001b[1;36m512\u001b[0m\u001b[1;33m,\u001b[0m\u001b[1;36m512\u001b[0m\u001b[1;33m)\u001b[0m\u001b[1;33m,\u001b[0m \u001b[0mImage\u001b[0m\u001b[1;33m.\u001b[0m\u001b[0mNEAREST\u001b[0m\u001b[1;33m)\u001b[0m\u001b[1;33m\u001b[0m\u001b[1;33m\u001b[0m\u001b[0m\n\u001b[0m\u001b[0;32m      8\u001b[0m \u001b[1;33m\u001b[0m\u001b[0m\n\u001b[0;32m      9\u001b[0m     \u001b[0mplt\u001b[0m\u001b[1;33m.\u001b[0m\u001b[0mfigure\u001b[0m\u001b[1;33m(\u001b[0m\u001b[0mfigsize\u001b[0m\u001b[1;33m=\u001b[0m\u001b[1;33m(\u001b[0m\u001b[1;36m20\u001b[0m\u001b[1;33m,\u001b[0m\u001b[1;36m10\u001b[0m\u001b[1;33m)\u001b[0m\u001b[1;33m)\u001b[0m\u001b[1;33m\u001b[0m\u001b[1;33m\u001b[0m\u001b[0m\n",
      "\u001b[1;31mAttributeError\u001b[0m: 'numpy.ndarray' object has no attribute 'Image'"
     ]
    }
   ],
   "source": [
    "num=0\n",
    "kernel=np.array([[-1,-1,-1],[-1,9,-1],[-1,-1,-1]])\n",
    "for img in img_dir:\n",
    "    num += 1\n",
    "    resize_img=np.array(Image.open(img)).astype(np.float32)/255.\n",
    "    resize_img=cv.filter2D(resize_img,-1,kernel)\n",
    "    resize_img.Image.resize((512,512), Image.NEAREST)\n",
    "    \n",
    "    plt.figure(figsize=(20,10))\n",
    "    plt.imshow(resize_img)\n",
    "#     resize_img.save(\"%d.jpg \" % num)\n",
    "    #plt.title(img)\n",
    "    #plt.savefig(\"%d.jpg\" % num)"
   ]
  },
  {
   "cell_type": "code",
   "execution_count": null,
   "metadata": {},
   "outputs": [],
   "source": [
    "num=0\n",
    "for i in range(10):\n",
    "    num += 1\n",
    "    print(num,\".jpg\")"
   ]
  },
  {
   "cell_type": "code",
   "execution_count": null,
   "metadata": {},
   "outputs": [],
   "source": []
  },
  {
   "cell_type": "code",
   "execution_count": null,
   "metadata": {},
   "outputs": [],
   "source": []
  }
 ],
 "metadata": {
  "kernelspec": {
   "display_name": "Python 3",
   "language": "python",
   "name": "python3"
  },
  "language_info": {
   "codemirror_mode": {
    "name": "ipython",
    "version": 3
   },
   "file_extension": ".py",
   "mimetype": "text/x-python",
   "name": "python",
   "nbconvert_exporter": "python",
   "pygments_lexer": "ipython3",
   "version": "3.7.3"
  }
 },
 "nbformat": 4,
 "nbformat_minor": 2
}
