{
 "cells": [
  {
   "cell_type": "code",
   "execution_count": 3,
   "metadata": {},
   "outputs": [],
   "source": [
    "import pandas as pd\n",
    "import numpy as np\n",
    "import os\n",
    "import matplotlib.pyplot as plt\n",
    "from PIL import Image\n",
    "import cv2 as cv\n",
    "import re"
   ]
  },
  {
   "cell_type": "code",
   "execution_count": 4,
   "metadata": {},
   "outputs": [],
   "source": [
    "# os.path.split(filename) --> 디렉토리와 파일을 분리한다.(리스트로 나타낸다)\n",
    "\n",
    "# os.path.splitext(filename) --> 확장자만 따로 분류한다.(리스트로 나타낸다)\n",
    "\n",
    "# os.path.dirname(filename) --> 디렉토리만 출력을 한다.\n",
    "\n",
    "# os.path.basename(filename) --> 파일이름만 출력을 한다.\n",
    "\n",
    "# os.path.isdir(파일이름)은 파일이 디렉토리인지에 대해서 검사를 하는 함수이다.\n",
    "\n",
    "# os.path.walk\n",
    "# os.path.walk(시작 상위 디렉토리, 각 디렉토리마다 실행할 함수, 함수에 대한 인수)\n",
    "\n",
    "# os.path.exists() – 파일의 존재 여부 검사\n",
    "\n",
    "\n",
    "# os.path.join\n",
    "\n",
    "# 디렉토리 경로명 연결입니다.\n",
    "# >>> os.path.join('a', 'b', 'c')\n",
    "#       'a\\\\b\\\\c'"
   ]
  },
  {
   "cell_type": "code",
   "execution_count": 70,
   "metadata": {},
   "outputs": [
    {
     "name": "stdout",
     "output_type": "stream",
     "text": [
      "['_330_4209708.png', '_330_9909734.png', '_331_5591186.png', '_331_5878167.png', '_332_8566630.png', '_332_8569399.png', '_333_3856697.png', '_333_7818866.png', '_334_1350111.png', '_334_4964182.png', '_334_8400886.png', '_335_3061278.png', '_335_4107553.png', '_335_4423013.png', '_336_4155950.png', '_336_4737126.png', '_336_8395098.png', '_337_2103138.png', '_337_3937355.png', '_337_9160303.png', '_338_1737739.png', '_338_5158829.png', '_339_5355481.png', '_339_567822.png', '_339_8446874.png', '_339_9538891.png', '_340_2670738.png', '_340_7599989.png', '_340_7797329.png', '_341_1498803.png', '_341_7496204.png', '_341_9276950.png', '_342_2498703.png', '_342_6051986.png', '_342_7225335.png', '_343_5462231.png', '_343_7367135.png', '_343_8779302.png', '_344_6668533.png', '_344_6971249.png', '_345_5092590.png', '_345_5811163.png', '_346_8743553.png', '_347_4164115.png', '_347_5416649.png', '_348_1912887.png', '_348_7066836.png', '_349_3219412.png', '_349_6042522.png', '_350_4554230.png', '_350_606993.png', '_351_3940033.png', '_351_732564.png', '_352_187421.png', '_352_3857018.png', '_353_3125073.png', '_353_6137077.png', '_354_1850498.png', '_354_3261311.png', '_354_9491298.png', '_355_2783789.png', '_355_5771114.png', '_356_5949220.png', '_356_8642576.png', '_357_7752472.png', '_357_9446369.png', '_358_2771969.png', '_358_8965958.png', '_359_1150814.png', '_359_7636370.png', '_359_9490178.png', '_360_7367411.png', '_360_8077997.png', '_361_1172201.png', '_361_2827022.png', '_362_1477607.png', '_362_5915769.png', '_363_2167525.png', '_363_6665629.png', '_364_3598985.png', '_364_6562741.png', '_365_2839427.png', '_365_7528269.png', '_366_460350.png', '_366_4835334.png', '_367_4878952.png', '_367_499538.png', '_368_4896136.png', '_368_711383.png', '_368_9292300.png', '_369_7381605.png', '_369_9544718.png', '_370_4723177.png', '_370_9014317.png', '_371_1107632.png', '_371_7584539.png', '_372_1191930.png', '_372_7314781.png', '_373_2669850.png', '_373_807034.png']\n"
     ]
    }
   ],
   "source": [
    "path_dir=\"C:/Users/user/Desktop/project/projectpractice/NEWIMG/\"\n",
    "list_MBfolder=os.listdir(path_dir)\n",
    "joinlist=[]\n",
    "for i in range(len(list_MBfolder)):\n",
    "    joinlist.append(os.path.join(path_dir,list_MBfolder[i]))\n",
    "\n",
    "    \n",
    "new_joinlist=([joinlist[-2],joinlist[-1],joinlist[2]])\n",
    "# print(new_joinlist)\n",
    "\n",
    "for l in new_joinlist:\n",
    "    IMG_name=os.listdir(l)\n",
    "print(IMG_name)\n",
    "\n"
   ]
  },
  {
   "cell_type": "code",
   "execution_count": 60,
   "metadata": {},
   "outputs": [
    {
     "name": "stdout",
     "output_type": "stream",
     "text": [
      "_330_4209708.png\n"
     ]
    },
    {
     "ename": "FileNotFoundError",
     "evalue": "[WinError 2] 지정된 파일을 찾을 수 없습니다: '_330_4209708.png' -> '330_4209708.png'",
     "output_type": "error",
     "traceback": [
      "\u001b[1;31m---------------------------------------------------------------------------\u001b[0m",
      "\u001b[1;31mFileNotFoundError\u001b[0m                         Traceback (most recent call last)",
      "\u001b[1;32m<ipython-input-60-d4e10ebd9147>\u001b[0m in \u001b[0;36m<module>\u001b[1;34m\u001b[0m\n\u001b[0;32m      2\u001b[0m     \u001b[0mnew_n\u001b[0m\u001b[1;33m=\u001b[0m\u001b[0mn\u001b[0m\u001b[1;33m[\u001b[0m\u001b[1;36m1\u001b[0m\u001b[1;33m:\u001b[0m\u001b[1;33m]\u001b[0m\u001b[1;33m\u001b[0m\u001b[1;33m\u001b[0m\u001b[0m\n\u001b[0;32m      3\u001b[0m     \u001b[0mprint\u001b[0m\u001b[1;33m(\u001b[0m\u001b[0mn\u001b[0m\u001b[1;33m)\u001b[0m\u001b[1;33m\u001b[0m\u001b[1;33m\u001b[0m\u001b[0m\n\u001b[1;32m----> 4\u001b[1;33m     \u001b[0mos\u001b[0m\u001b[1;33m.\u001b[0m\u001b[0mrename\u001b[0m\u001b[1;33m(\u001b[0m\u001b[0mn\u001b[0m\u001b[1;33m,\u001b[0m\u001b[0mnew_n\u001b[0m\u001b[1;33m)\u001b[0m\u001b[1;33m\u001b[0m\u001b[1;33m\u001b[0m\u001b[0m\n\u001b[0m",
      "\u001b[1;31mFileNotFoundError\u001b[0m: [WinError 2] 지정된 파일을 찾을 수 없습니다: '_330_4209708.png' -> '330_4209708.png'"
     ]
    }
   ],
   "source": [
    "\n"
   ]
  },
  {
   "cell_type": "code",
   "execution_count": 77,
   "metadata": {},
   "outputs": [
    {
     "name": "stdout",
     "output_type": "stream",
     "text": [
      "_330_4209708.png\n"
     ]
    },
    {
     "ename": "TypeError",
     "evalue": "rename: src should be string, bytes or os.PathLike, not list",
     "output_type": "error",
     "traceback": [
      "\u001b[1;31m---------------------------------------------------------------------------\u001b[0m",
      "\u001b[1;31mTypeError\u001b[0m                                 Traceback (most recent call last)",
      "\u001b[1;32m<ipython-input-77-e7555e2619e3>\u001b[0m in \u001b[0;36m<module>\u001b[1;34m\u001b[0m\n\u001b[0;32m     11\u001b[0m     \u001b[0mnew_n\u001b[0m\u001b[1;33m=\u001b[0m\u001b[0mn\u001b[0m\u001b[1;33m[\u001b[0m\u001b[1;36m1\u001b[0m\u001b[1;33m:\u001b[0m\u001b[1;33m]\u001b[0m\u001b[1;33m\u001b[0m\u001b[1;33m\u001b[0m\u001b[0m\n\u001b[0;32m     12\u001b[0m     \u001b[0mprint\u001b[0m\u001b[1;33m(\u001b[0m\u001b[0mn\u001b[0m\u001b[1;33m)\u001b[0m\u001b[1;33m\u001b[0m\u001b[1;33m\u001b[0m\u001b[0m\n\u001b[1;32m---> 13\u001b[1;33m     \u001b[0mos\u001b[0m\u001b[1;33m.\u001b[0m\u001b[0mrename\u001b[0m\u001b[1;33m(\u001b[0m\u001b[0mimg_dir\u001b[0m\u001b[1;33m,\u001b[0m\u001b[0mnew_n\u001b[0m\u001b[1;33m)\u001b[0m\u001b[1;33m\u001b[0m\u001b[1;33m\u001b[0m\u001b[0m\n\u001b[0m\u001b[0;32m     14\u001b[0m \u001b[1;33m\u001b[0m\u001b[0m\n",
      "\u001b[1;31mTypeError\u001b[0m: rename: src should be string, bytes or os.PathLike, not list"
     ]
    }
   ],
   "source": [
    "\n",
    "# print(img_name)\n",
    "img_name=[]\n",
    "img_dir=[]\n",
    "for l in new_joinlist:\n",
    "    MB_img_list=os.listdir(l)\n",
    "    for k in MB_img_list:\n",
    "        img_dir.append(os.path.join(l,k))\n",
    "# print(img_dir)\n",
    "        \n",
    "for n in IMG_name:\n",
    "    new_n=n[1:]\n",
    "    print(n)\n",
    "    os.rename(img_dir,new_n)\n",
    "        \n",
    "os.PathLike"
   ]
  },
  {
   "cell_type": "code",
   "execution_count": 68,
   "metadata": {},
   "outputs": [],
   "source": [
    "num=0\n",
    "for img in img_dir:\n",
    "    num += 1\n",
    "    resize_img=Image.open(img).resize((512,512), Image.NEAREST)\n",
    "    resize_img.save(\"C:/Users/user/Desktop/resizeimg/%d.png\" % num)\n",
    "    #plt.title(img)\n",
    "    #plt.savefig(\"%d.jpg\" % num)"
   ]
  },
  {
   "cell_type": "code",
   "execution_count": 41,
   "metadata": {
    "scrolled": false
   },
   "outputs": [
    {
     "ename": "AttributeError",
     "evalue": "'numpy.ndarray' object has no attribute 'Image'",
     "output_type": "error",
     "traceback": [
      "\u001b[1;31m---------------------------------------------------------------------------\u001b[0m",
      "\u001b[1;31mAttributeError\u001b[0m                            Traceback (most recent call last)",
      "\u001b[1;32m<ipython-input-41-8ef852630134>\u001b[0m in \u001b[0;36m<module>\u001b[1;34m\u001b[0m\n\u001b[0;32m      5\u001b[0m     \u001b[0mresize_img\u001b[0m\u001b[1;33m=\u001b[0m\u001b[0mnp\u001b[0m\u001b[1;33m.\u001b[0m\u001b[0marray\u001b[0m\u001b[1;33m(\u001b[0m\u001b[0mImage\u001b[0m\u001b[1;33m.\u001b[0m\u001b[0mopen\u001b[0m\u001b[1;33m(\u001b[0m\u001b[0mimg\u001b[0m\u001b[1;33m)\u001b[0m\u001b[1;33m)\u001b[0m\u001b[1;33m.\u001b[0m\u001b[0mastype\u001b[0m\u001b[1;33m(\u001b[0m\u001b[0mnp\u001b[0m\u001b[1;33m.\u001b[0m\u001b[0mfloat32\u001b[0m\u001b[1;33m)\u001b[0m\u001b[1;33m/\u001b[0m\u001b[1;36m255.\u001b[0m\u001b[1;33m\u001b[0m\u001b[1;33m\u001b[0m\u001b[0m\n\u001b[0;32m      6\u001b[0m     \u001b[0mresize_img\u001b[0m\u001b[1;33m=\u001b[0m\u001b[0mcv\u001b[0m\u001b[1;33m.\u001b[0m\u001b[0mfilter2D\u001b[0m\u001b[1;33m(\u001b[0m\u001b[0mresize_img\u001b[0m\u001b[1;33m,\u001b[0m\u001b[1;33m-\u001b[0m\u001b[1;36m1\u001b[0m\u001b[1;33m,\u001b[0m\u001b[0mkernel\u001b[0m\u001b[1;33m)\u001b[0m\u001b[1;33m\u001b[0m\u001b[1;33m\u001b[0m\u001b[0m\n\u001b[1;32m----> 7\u001b[1;33m     \u001b[0mresize_img\u001b[0m\u001b[1;33m.\u001b[0m\u001b[0mImage\u001b[0m\u001b[1;33m.\u001b[0m\u001b[0mresize\u001b[0m\u001b[1;33m(\u001b[0m\u001b[1;33m(\u001b[0m\u001b[1;36m512\u001b[0m\u001b[1;33m,\u001b[0m\u001b[1;36m512\u001b[0m\u001b[1;33m)\u001b[0m\u001b[1;33m,\u001b[0m \u001b[0mImage\u001b[0m\u001b[1;33m.\u001b[0m\u001b[0mNEAREST\u001b[0m\u001b[1;33m)\u001b[0m\u001b[1;33m\u001b[0m\u001b[1;33m\u001b[0m\u001b[0m\n\u001b[0m\u001b[0;32m      8\u001b[0m \u001b[1;33m\u001b[0m\u001b[0m\n\u001b[0;32m      9\u001b[0m     \u001b[0mplt\u001b[0m\u001b[1;33m.\u001b[0m\u001b[0mfigure\u001b[0m\u001b[1;33m(\u001b[0m\u001b[0mfigsize\u001b[0m\u001b[1;33m=\u001b[0m\u001b[1;33m(\u001b[0m\u001b[1;36m20\u001b[0m\u001b[1;33m,\u001b[0m\u001b[1;36m10\u001b[0m\u001b[1;33m)\u001b[0m\u001b[1;33m)\u001b[0m\u001b[1;33m\u001b[0m\u001b[1;33m\u001b[0m\u001b[0m\n",
      "\u001b[1;31mAttributeError\u001b[0m: 'numpy.ndarray' object has no attribute 'Image'"
     ]
    }
   ],
   "source": [
    "num=0\n",
    "kernel=np.array([[-1,-1,-1],[-1,9,-1],[-1,-1,-1]])\n",
    "for img in img_dir:\n",
    "    num += 1\n",
    "    resize_img=np.array(Image.open(img)).astype(np.float32)/255.\n",
    "    resize_img=cv.filter2D(resize_img,-1,kernel)\n",
    "    resize_img.Image.resize((512,512), Image.NEAREST)\n",
    "    \n",
    "    plt.figure(figsize=(20,10))\n",
    "    plt.imshow(resize_img)\n",
    "#     resize_img.save(\"%d.jpg \" % num)\n",
    "    #plt.title(img)\n",
    "    #plt.savefig(\"%d.jpg\" % num)"
   ]
  },
  {
   "cell_type": "code",
   "execution_count": null,
   "metadata": {},
   "outputs": [],
   "source": [
    "num=0\n",
    "for i in range(10):\n",
    "    num += 1\n",
    "    print(num,\".jpg\")"
   ]
  },
  {
   "cell_type": "code",
   "execution_count": null,
   "metadata": {},
   "outputs": [],
   "source": []
  },
  {
   "cell_type": "code",
   "execution_count": null,
   "metadata": {},
   "outputs": [],
   "source": []
  }
 ],
 "metadata": {
  "kernelspec": {
   "display_name": "Python 3",
   "language": "python",
   "name": "python3"
  },
  "language_info": {
   "codemirror_mode": {
    "name": "ipython",
    "version": 3
   },
   "file_extension": ".py",
   "mimetype": "text/x-python",
   "name": "python",
   "nbconvert_exporter": "python",
   "pygments_lexer": "ipython3",
   "version": "3.7.3"
  }
 },
 "nbformat": 4,
 "nbformat_minor": 2
}
